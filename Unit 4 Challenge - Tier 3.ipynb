{
 "cells": [
  {
   "cell_type": "markdown",
   "metadata": {
    "colab_type": "text",
    "id": "Tia3MP1SJpgj"
   },
   "source": [
    "# Springboard Data Science Career Track Unit 4 Challenge - Tier 3 Complete\n",
    "\n",
    "## Objectives\n",
    "Hey! Great job getting through those challenging DataCamp courses. You're learning a lot in a short span of time. \n",
    "\n",
    "In this notebook, you're going to apply the skills you've been learning, bridging the gap between the controlled environment of DataCamp and the *slightly* messier work that data scientists do with actual datasets!\n",
    "\n",
    "Here’s the mystery we’re going to solve: ***which boroughs of London have seen the greatest increase in housing prices, on average, over the last two decades?***\n",
    "\n",
    "\n",
    "A borough is just a fancy word for district. You may be familiar with the five boroughs of New York… well, there are 32 boroughs within Greater London [(here's some info for the curious)](https://en.wikipedia.org/wiki/London_boroughs). Some of them are more desirable areas to live in, and the data will reflect that with a greater rise in housing prices.\n",
    "\n",
    "***This is the Tier 3 notebook, which means it's not filled in at all: we'll just give you the skeleton of a project, the brief and the data. It's up to you to play around with it and see what you can find out! Good luck! If you struggle, feel free to look at easier tiers for help; but try to dip in and out of them, as the more independent work you do, the better it is for your learning!***\n",
    "\n",
    "This challenge will make use of only what you learned in the following DataCamp courses: \n",
    "- Prework courses (Introduction to Python for Data Science, Intermediate Python for Data Science)\n",
    "- Data Types for Data Science\n",
    "- Python Data Science Toolbox (Part One) \n",
    "- pandas Foundations\n",
    "- Manipulating DataFrames with pandas\n",
    "- Merging DataFrames with pandas\n",
    "\n",
    "Of the tools, techniques and concepts in the above DataCamp courses, this challenge should require the application of the following: \n",
    "- **pandas**\n",
    "    - **data ingestion and inspection** (pandas Foundations, Module One) \n",
    "    - **exploratory data analysis** (pandas Foundations, Module Two)\n",
    "    - **tidying and cleaning** (Manipulating DataFrames with pandas, Module Three) \n",
    "    - **transforming DataFrames** (Manipulating DataFrames with pandas, Module One)\n",
    "    - **subsetting DataFrames with lists** (Manipulating DataFrames with pandas, Module One) \n",
    "    - **filtering DataFrames** (Manipulating DataFrames with pandas, Module One) \n",
    "    - **grouping data** (Manipulating DataFrames with pandas, Module Four) \n",
    "    - **melting data** (Manipulating DataFrames with pandas, Module Three) \n",
    "    - **advanced indexing** (Manipulating DataFrames with pandas, Module Four) \n",
    "- **matplotlib** (Intermediate Python for Data Science, Module One)\n",
    "- **fundamental data types** (Data Types for Data Science, Module One) \n",
    "- **dictionaries** (Intermediate Python for Data Science, Module Two)\n",
    "- **handling dates and times** (Data Types for Data Science, Module Four)\n",
    "- **function definition** (Python Data Science Toolbox - Part One, Module One)\n",
    "- **default arguments, variable length, and scope** (Python Data Science Toolbox - Part One, Module Two) \n",
    "- **lambda functions and error handling** (Python Data Science Toolbox - Part One, Module Four) "
   ]
  },
  {
   "cell_type": "markdown",
   "metadata": {
    "colab_type": "text",
    "id": "Ipgd2nV8Jpgl"
   },
   "source": [
    "## The Data Science Pipeline\n",
    "\n",
    "This is Tier Three, so we'll get you started. But after that, it's all in your hands! When you feel done with your investigations, look back over what you've accomplished, and prepare a quick presentation of your findings for the next mentor meeting. \n",
    "\n",
    "Data Science is magical. In this case study, you'll get to apply some complex machine learning algorithms. But as  [David Spiegelhalter](https://www.youtube.com/watch?v=oUs1uvsz0Ok) reminds us, there is no substitute for simply **taking a really, really good look at the data.** Sometimes, this is all we need to answer our question.\n",
    "\n",
    "Data Science projects generally adhere to the four stages of Data Science Pipeline:\n",
    "1. Sourcing and loading \n",
    "2. Cleaning, transforming, and visualizing \n",
    "3. Modeling \n",
    "4. Evaluating and concluding \n"
   ]
  },
  {
   "cell_type": "markdown",
   "metadata": {
    "colab_type": "text",
    "id": "zswDqbefJpgm"
   },
   "source": [
    "### 1. Sourcing and Loading \n",
    "\n",
    "Any Data Science project kicks off by importing  ***pandas***. The documentation of this wonderful library can be found [here](https://pandas.pydata.org/). As you've seen, pandas is conveniently connected to the [Numpy](http://www.numpy.org/) and [Matplotlib](https://matplotlib.org/) libraries. \n",
    "\n",
    "***Hint:*** This part of the data science pipeline will test those skills you acquired in the pandas Foundations course, Module One. "
   ]
  },
  {
   "cell_type": "markdown",
   "metadata": {
    "colab_type": "text",
    "id": "aEau5nEvJpgm"
   },
   "source": [
    "#### 1.1. Importing Libraries"
   ]
  },
  {
   "cell_type": "code",
   "execution_count": 12,
   "metadata": {
    "colab": {},
    "colab_type": "code",
    "id": "7Bt_Q_oPJpgn"
   },
   "outputs": [],
   "source": [
    "# Let's import the pandas, numpy libraries as pd, and np respectively.\n",
    "import pandas as pd\n",
    "import numpy as np\n",
    "\n",
    "# Load the pyplot collection of functions from matplotlib, as plt\n",
    "import matplotlib.pyplot as plt"
   ]
  },
  {
   "cell_type": "markdown",
   "metadata": {
    "colab_type": "text",
    "id": "koUrawxsJpgq"
   },
   "source": [
    "#### 1.2.  Loading the data\n",
    "Your data comes from the [London Datastore](https://data.london.gov.uk/): a free, open-source data-sharing portal for London-oriented datasets. "
   ]
  },
  {
   "cell_type": "code",
   "execution_count": 13,
   "metadata": {
    "colab": {},
    "colab_type": "code",
    "id": "AiLiD4v3Jpgr"
   },
   "outputs": [],
   "source": [
    "# First, make a variable called url_LondonHousePrices, and assign it the following link, enclosed in quotation-marks as a string:\n",
    "# https://data.london.gov.uk/download/uk-house-price-index/70ac0766-8902-4eb5-aab5-01951aaed773/UK%20House%20price%20index.xls\n",
    "\n",
    "url_LondonHousePrices = \"https://data.london.gov.uk/download/uk-house-price-index/70ac0766-8902-4eb5-aab5-01951aaed773/UK%20House%20price%20index.xls\"\n",
    "\n",
    "# The dataset we're interested in contains the Average prices of the houses, and is actually on a particular sheet of the Excel file.\n",
    "# As a result, we need to specify the sheet name in the read_excel() method.\n",
    "# Put this data into a variable called properties.\n",
    "properties = pd.read_excel(url_LondonHousePrices, sheet_name='Average price', index_col= None)"
   ]
  },
  {
   "cell_type": "markdown",
   "metadata": {
    "colab_type": "text",
    "id": "POukEJXgJpgu"
   },
   "source": [
    "### 2. Cleaning, transforming, and visualizing\n",
    "This second stage is arguably the most important part of any Data Science project. The first thing to do is take a proper look at the data. Cleaning forms the majority of this stage, and can be done both before or after Transformation.\n",
    "\n",
    "The end goal of data cleaning is to have tidy data. When data is tidy: \n",
    "\n",
    "1. Each variable has a column.\n",
    "2. Each observation forms a row.\n",
    "\n",
    "Keep the end goal in mind as you move through this process, every step will take you closer. \n",
    "\n",
    "\n",
    "\n",
    "***Hint:*** This part of the data science pipeline should test those skills you acquired in: \n",
    "- Intermediate Python for data science, all modules.\n",
    "- pandas Foundations, all modules. \n",
    "- Manipulating DataFrames with pandas, all modules.\n",
    "- Data Types for Data Science, Module Four.\n",
    "- Python Data Science Toolbox - Part One, all modules"
   ]
  },
  {
   "cell_type": "markdown",
   "metadata": {
    "colab_type": "text",
    "id": "Te0Q548tnzZa"
   },
   "source": [
    "**2.1. Exploring your data** \n",
    "\n",
    "Think about your pandas functions for checking out a dataframe. "
   ]
  },
  {
   "cell_type": "code",
   "execution_count": 14,
   "metadata": {
    "colab": {},
    "colab_type": "code",
    "id": "Rxirxw_qoAJa"
   },
   "outputs": [
    {
     "name": "stdout",
     "output_type": "stream",
     "text": [
      "  Unnamed: 0 City of London Barking & Dagenham       Barnet       Bexley  \\\n",
      "0        NaT      E09000001          E09000002    E09000003    E09000004   \n",
      "1 1995-01-01    91448.98487         50460.2266  93284.51832  64958.09036   \n",
      "2 1995-02-01    82202.77314        51085.77983  93190.16963  64787.92069   \n",
      "3 1995-03-01    79120.70256        51268.96956  92247.52435  64367.49344   \n",
      "4 1995-04-01    77101.20804        53133.50526  90762.87492  64277.66881   \n",
      "\n",
      "         Brent      Bromley       Camden      Croydon       Ealing  ...  \\\n",
      "0    E09000005    E09000006    E09000007    E09000008    E09000009  ...   \n",
      "1  71306.56698  81671.47692  120932.8881  69158.16225  79885.89069  ...   \n",
      "2  72022.26197  81657.55944  119508.8622  68951.09542  80897.06551  ...   \n",
      "3  72015.76274  81449.31143  120282.2131  68712.44341  81379.86288  ...   \n",
      "4  72965.63094  81124.41227   120097.899  68610.04641  82188.90498  ...   \n",
      "\n",
      "    NORTH WEST YORKS & THE HUMBER EAST MIDLANDS WEST MIDLANDS EAST OF ENGLAND  \\\n",
      "0    E12000002          E12000003     E12000004     E12000005       E12000006   \n",
      "1  43958.48001        44803.42878   45544.52227   48527.52339      56701.5961   \n",
      "2  43925.42289        44528.80721   46051.57066   49341.29029     56593.59475   \n",
      "3   44434.8681        45200.46775   45383.82395   49442.17973     56171.18278   \n",
      "4   44267.7796        45614.34341   46124.23045   49455.93299     56567.89582   \n",
      "\n",
      "        LONDON   SOUTH EAST   SOUTH WEST Unnamed: 47      England  \n",
      "0    E12000007    E12000008    E12000009         NaN    E92000001  \n",
      "1  74435.76052  64018.87894   54705.1579         NaN  53202.77128  \n",
      "2  72777.93709  63715.02399  54356.14843         NaN   53096.1549  \n",
      "3  73896.84204  64113.60858  53583.07667         NaN   53201.2843  \n",
      "4  74455.28754  64623.22395  54786.01938         NaN   53590.8548  \n",
      "\n",
      "[5 rows x 49 columns]\n",
      "(340, 49)\n"
     ]
    }
   ],
   "source": [
    "print(properties.head())\n",
    "print(properties.shape)"
   ]
  },
  {
   "cell_type": "markdown",
   "metadata": {
    "colab_type": "text",
    "id": "tE9Sqt9-oAta"
   },
   "source": [
    "**2.2. Cleaning the data**\n",
    "\n",
    "You might find you need to transpose your dataframe, check out what its row indexes are, and reset the index. You  also might find you need to assign the values of the first row to your column headings  . (Hint: recall the .columns feature of DataFrames, as well as the iloc[] method).\n",
    "\n",
    "Don't be afraid to use StackOverflow for help  with this."
   ]
  },
  {
   "cell_type": "code",
   "execution_count": 15,
   "metadata": {
    "colab": {},
    "colab_type": "code",
    "id": "cdAu1A3YoH_r"
   },
   "outputs": [
    {
     "data": {
      "text/html": [
       "<div>\n",
       "<style scoped>\n",
       "    .dataframe tbody tr th:only-of-type {\n",
       "        vertical-align: middle;\n",
       "    }\n",
       "\n",
       "    .dataframe tbody tr th {\n",
       "        vertical-align: top;\n",
       "    }\n",
       "\n",
       "    .dataframe thead th {\n",
       "        text-align: right;\n",
       "    }\n",
       "</style>\n",
       "<table border=\"1\" class=\"dataframe\">\n",
       "  <thead>\n",
       "    <tr style=\"text-align: right;\">\n",
       "      <th></th>\n",
       "      <th>Unnamed: 0</th>\n",
       "      <th>NaT</th>\n",
       "      <th>1995-01-01 00:00:00</th>\n",
       "      <th>1995-02-01 00:00:00</th>\n",
       "      <th>1995-03-01 00:00:00</th>\n",
       "      <th>1995-04-01 00:00:00</th>\n",
       "      <th>1995-05-01 00:00:00</th>\n",
       "      <th>1995-06-01 00:00:00</th>\n",
       "      <th>1995-07-01 00:00:00</th>\n",
       "      <th>1995-08-01 00:00:00</th>\n",
       "      <th>...</th>\n",
       "      <th>2022-06-01 00:00:00</th>\n",
       "      <th>2022-07-01 00:00:00</th>\n",
       "      <th>2022-08-01 00:00:00</th>\n",
       "      <th>2022-09-01 00:00:00</th>\n",
       "      <th>2022-10-01 00:00:00</th>\n",
       "      <th>2022-11-01 00:00:00</th>\n",
       "      <th>2022-12-01 00:00:00</th>\n",
       "      <th>2023-01-01 00:00:00</th>\n",
       "      <th>2023-02-01 00:00:00</th>\n",
       "      <th>2023-03-01 00:00:00</th>\n",
       "    </tr>\n",
       "  </thead>\n",
       "  <tbody>\n",
       "    <tr>\n",
       "      <th>1</th>\n",
       "      <td>City of London</td>\n",
       "      <td>E09000001</td>\n",
       "      <td>91448.98487</td>\n",
       "      <td>82202.77314</td>\n",
       "      <td>79120.70256</td>\n",
       "      <td>77101.20804</td>\n",
       "      <td>84409.14932</td>\n",
       "      <td>94900.51244</td>\n",
       "      <td>110128.0423</td>\n",
       "      <td>112329.4376</td>\n",
       "      <td>...</td>\n",
       "      <td>817584.33516</td>\n",
       "      <td>823678.42301</td>\n",
       "      <td>851508.9627</td>\n",
       "      <td>848510.48104</td>\n",
       "      <td>876104.51684</td>\n",
       "      <td>948498.14532</td>\n",
       "      <td>926673.83411</td>\n",
       "      <td>940537.50192</td>\n",
       "      <td>843218.92839</td>\n",
       "      <td>896600.654</td>\n",
       "    </tr>\n",
       "    <tr>\n",
       "      <th>2</th>\n",
       "      <td>Barking &amp; Dagenham</td>\n",
       "      <td>E09000002</td>\n",
       "      <td>50460.2266</td>\n",
       "      <td>51085.77983</td>\n",
       "      <td>51268.96956</td>\n",
       "      <td>53133.50526</td>\n",
       "      <td>53042.24852</td>\n",
       "      <td>53700.34831</td>\n",
       "      <td>52113.12157</td>\n",
       "      <td>52232.19868</td>\n",
       "      <td>...</td>\n",
       "      <td>344211.58225</td>\n",
       "      <td>349019.74947</td>\n",
       "      <td>350684.93126</td>\n",
       "      <td>350132.29415</td>\n",
       "      <td>351786.71213</td>\n",
       "      <td>355142.44959</td>\n",
       "      <td>355179.19508</td>\n",
       "      <td>351542.56074</td>\n",
       "      <td>344353.00525</td>\n",
       "      <td>346945.70957</td>\n",
       "    </tr>\n",
       "    <tr>\n",
       "      <th>3</th>\n",
       "      <td>Barnet</td>\n",
       "      <td>E09000003</td>\n",
       "      <td>93284.51832</td>\n",
       "      <td>93190.16963</td>\n",
       "      <td>92247.52435</td>\n",
       "      <td>90762.87492</td>\n",
       "      <td>90258.00033</td>\n",
       "      <td>90107.23471</td>\n",
       "      <td>91441.24768</td>\n",
       "      <td>92361.31512</td>\n",
       "      <td>...</td>\n",
       "      <td>587652.57456</td>\n",
       "      <td>589491.91507</td>\n",
       "      <td>600983.25425</td>\n",
       "      <td>605828.46908</td>\n",
       "      <td>605053.28709</td>\n",
       "      <td>596174.87369</td>\n",
       "      <td>601033.77667</td>\n",
       "      <td>603902.88471</td>\n",
       "      <td>608829.39401</td>\n",
       "      <td>598272.26714</td>\n",
       "    </tr>\n",
       "    <tr>\n",
       "      <th>4</th>\n",
       "      <td>Bexley</td>\n",
       "      <td>E09000004</td>\n",
       "      <td>64958.09036</td>\n",
       "      <td>64787.92069</td>\n",
       "      <td>64367.49344</td>\n",
       "      <td>64277.66881</td>\n",
       "      <td>63997.13588</td>\n",
       "      <td>64252.32335</td>\n",
       "      <td>63722.70055</td>\n",
       "      <td>64432.60005</td>\n",
       "      <td>...</td>\n",
       "      <td>388882.93861</td>\n",
       "      <td>394022.89593</td>\n",
       "      <td>400356.86436</td>\n",
       "      <td>402704.6993</td>\n",
       "      <td>407097.04931</td>\n",
       "      <td>405578.41451</td>\n",
       "      <td>406911.68217</td>\n",
       "      <td>399736.46196</td>\n",
       "      <td>400814.17362</td>\n",
       "      <td>403022.84703</td>\n",
       "    </tr>\n",
       "    <tr>\n",
       "      <th>5</th>\n",
       "      <td>Brent</td>\n",
       "      <td>E09000005</td>\n",
       "      <td>71306.56698</td>\n",
       "      <td>72022.26197</td>\n",
       "      <td>72015.76274</td>\n",
       "      <td>72965.63094</td>\n",
       "      <td>73704.04743</td>\n",
       "      <td>74310.48167</td>\n",
       "      <td>74127.03788</td>\n",
       "      <td>73547.0411</td>\n",
       "      <td>...</td>\n",
       "      <td>534878.8481</td>\n",
       "      <td>550730.29995</td>\n",
       "      <td>559692.69097</td>\n",
       "      <td>578082.6615</td>\n",
       "      <td>570146.90413</td>\n",
       "      <td>566137.79926</td>\n",
       "      <td>559407.13925</td>\n",
       "      <td>556501.11179</td>\n",
       "      <td>543974.33399</td>\n",
       "      <td>530399.91639</td>\n",
       "    </tr>\n",
       "  </tbody>\n",
       "</table>\n",
       "<p>5 rows × 341 columns</p>\n",
       "</div>"
      ],
      "text/plain": [
       "0          Unnamed: 0        NaT 1995-01-01 00:00:00 1995-02-01 00:00:00  \\\n",
       "1      City of London  E09000001         91448.98487         82202.77314   \n",
       "2  Barking & Dagenham  E09000002          50460.2266         51085.77983   \n",
       "3              Barnet  E09000003         93284.51832         93190.16963   \n",
       "4              Bexley  E09000004         64958.09036         64787.92069   \n",
       "5               Brent  E09000005         71306.56698         72022.26197   \n",
       "\n",
       "0 1995-03-01 00:00:00 1995-04-01 00:00:00 1995-05-01 00:00:00  \\\n",
       "1         79120.70256         77101.20804         84409.14932   \n",
       "2         51268.96956         53133.50526         53042.24852   \n",
       "3         92247.52435         90762.87492         90258.00033   \n",
       "4         64367.49344         64277.66881         63997.13588   \n",
       "5         72015.76274         72965.63094         73704.04743   \n",
       "\n",
       "0 1995-06-01 00:00:00 1995-07-01 00:00:00 1995-08-01 00:00:00  ...  \\\n",
       "1         94900.51244         110128.0423         112329.4376  ...   \n",
       "2         53700.34831         52113.12157         52232.19868  ...   \n",
       "3         90107.23471         91441.24768         92361.31512  ...   \n",
       "4         64252.32335         63722.70055         64432.60005  ...   \n",
       "5         74310.48167         74127.03788          73547.0411  ...   \n",
       "\n",
       "0 2022-06-01 00:00:00 2022-07-01 00:00:00 2022-08-01 00:00:00  \\\n",
       "1        817584.33516        823678.42301         851508.9627   \n",
       "2        344211.58225        349019.74947        350684.93126   \n",
       "3        587652.57456        589491.91507        600983.25425   \n",
       "4        388882.93861        394022.89593        400356.86436   \n",
       "5         534878.8481        550730.29995        559692.69097   \n",
       "\n",
       "0 2022-09-01 00:00:00 2022-10-01 00:00:00 2022-11-01 00:00:00  \\\n",
       "1        848510.48104        876104.51684        948498.14532   \n",
       "2        350132.29415        351786.71213        355142.44959   \n",
       "3        605828.46908        605053.28709        596174.87369   \n",
       "4         402704.6993        407097.04931        405578.41451   \n",
       "5         578082.6615        570146.90413        566137.79926   \n",
       "\n",
       "0 2022-12-01 00:00:00 2023-01-01 00:00:00 2023-02-01 00:00:00  \\\n",
       "1        926673.83411        940537.50192        843218.92839   \n",
       "2        355179.19508        351542.56074        344353.00525   \n",
       "3        601033.77667        603902.88471        608829.39401   \n",
       "4        406911.68217        399736.46196        400814.17362   \n",
       "5        559407.13925        556501.11179        543974.33399   \n",
       "\n",
       "0 2023-03-01 00:00:00  \n",
       "1          896600.654  \n",
       "2        346945.70957  \n",
       "3        598272.26714  \n",
       "4        403022.84703  \n",
       "5        530399.91639  \n",
       "\n",
       "[5 rows x 341 columns]"
      ]
     },
     "execution_count": 15,
     "metadata": {},
     "output_type": "execute_result"
    }
   ],
   "source": [
    "properties_t = properties.T\n",
    "properties_t = properties_t.reset_index()\n",
    "properties_t.columns = properties_t.iloc[0]\n",
    "properties_t = properties_t.drop(0)\n",
    "properties_t.head()"
   ]
  },
  {
   "cell_type": "markdown",
   "metadata": {
    "colab_type": "text",
    "id": "o1uLbJAsoIjK"
   },
   "source": [
    "**2.3. Cleaning the data (part 2)**\n",
    "\n",
    "You might we have to **rename** a couple columns. How do you do this? The clue's pretty bold..."
   ]
  },
  {
   "cell_type": "code",
   "execution_count": 16,
   "metadata": {
    "colab": {},
    "colab_type": "code",
    "id": "GKkmn1AnoVZS"
   },
   "outputs": [
    {
     "data": {
      "text/html": [
       "<div>\n",
       "<style scoped>\n",
       "    .dataframe tbody tr th:only-of-type {\n",
       "        vertical-align: middle;\n",
       "    }\n",
       "\n",
       "    .dataframe tbody tr th {\n",
       "        vertical-align: top;\n",
       "    }\n",
       "\n",
       "    .dataframe thead th {\n",
       "        text-align: right;\n",
       "    }\n",
       "</style>\n",
       "<table border=\"1\" class=\"dataframe\">\n",
       "  <thead>\n",
       "    <tr style=\"text-align: right;\">\n",
       "      <th></th>\n",
       "      <th>London_Borough</th>\n",
       "      <th>id</th>\n",
       "      <th>1995-01-01 00:00:00</th>\n",
       "      <th>1995-02-01 00:00:00</th>\n",
       "      <th>1995-03-01 00:00:00</th>\n",
       "      <th>1995-04-01 00:00:00</th>\n",
       "      <th>1995-05-01 00:00:00</th>\n",
       "      <th>1995-06-01 00:00:00</th>\n",
       "      <th>1995-07-01 00:00:00</th>\n",
       "      <th>1995-08-01 00:00:00</th>\n",
       "      <th>...</th>\n",
       "      <th>2022-06-01 00:00:00</th>\n",
       "      <th>2022-07-01 00:00:00</th>\n",
       "      <th>2022-08-01 00:00:00</th>\n",
       "      <th>2022-09-01 00:00:00</th>\n",
       "      <th>2022-10-01 00:00:00</th>\n",
       "      <th>2022-11-01 00:00:00</th>\n",
       "      <th>2022-12-01 00:00:00</th>\n",
       "      <th>2023-01-01 00:00:00</th>\n",
       "      <th>2023-02-01 00:00:00</th>\n",
       "      <th>2023-03-01 00:00:00</th>\n",
       "    </tr>\n",
       "  </thead>\n",
       "  <tbody>\n",
       "    <tr>\n",
       "      <th>1</th>\n",
       "      <td>City of London</td>\n",
       "      <td>E09000001</td>\n",
       "      <td>91448.98487</td>\n",
       "      <td>82202.77314</td>\n",
       "      <td>79120.70256</td>\n",
       "      <td>77101.20804</td>\n",
       "      <td>84409.14932</td>\n",
       "      <td>94900.51244</td>\n",
       "      <td>110128.0423</td>\n",
       "      <td>112329.4376</td>\n",
       "      <td>...</td>\n",
       "      <td>817584.33516</td>\n",
       "      <td>823678.42301</td>\n",
       "      <td>851508.9627</td>\n",
       "      <td>848510.48104</td>\n",
       "      <td>876104.51684</td>\n",
       "      <td>948498.14532</td>\n",
       "      <td>926673.83411</td>\n",
       "      <td>940537.50192</td>\n",
       "      <td>843218.92839</td>\n",
       "      <td>896600.654</td>\n",
       "    </tr>\n",
       "    <tr>\n",
       "      <th>2</th>\n",
       "      <td>Barking &amp; Dagenham</td>\n",
       "      <td>E09000002</td>\n",
       "      <td>50460.2266</td>\n",
       "      <td>51085.77983</td>\n",
       "      <td>51268.96956</td>\n",
       "      <td>53133.50526</td>\n",
       "      <td>53042.24852</td>\n",
       "      <td>53700.34831</td>\n",
       "      <td>52113.12157</td>\n",
       "      <td>52232.19868</td>\n",
       "      <td>...</td>\n",
       "      <td>344211.58225</td>\n",
       "      <td>349019.74947</td>\n",
       "      <td>350684.93126</td>\n",
       "      <td>350132.29415</td>\n",
       "      <td>351786.71213</td>\n",
       "      <td>355142.44959</td>\n",
       "      <td>355179.19508</td>\n",
       "      <td>351542.56074</td>\n",
       "      <td>344353.00525</td>\n",
       "      <td>346945.70957</td>\n",
       "    </tr>\n",
       "    <tr>\n",
       "      <th>3</th>\n",
       "      <td>Barnet</td>\n",
       "      <td>E09000003</td>\n",
       "      <td>93284.51832</td>\n",
       "      <td>93190.16963</td>\n",
       "      <td>92247.52435</td>\n",
       "      <td>90762.87492</td>\n",
       "      <td>90258.00033</td>\n",
       "      <td>90107.23471</td>\n",
       "      <td>91441.24768</td>\n",
       "      <td>92361.31512</td>\n",
       "      <td>...</td>\n",
       "      <td>587652.57456</td>\n",
       "      <td>589491.91507</td>\n",
       "      <td>600983.25425</td>\n",
       "      <td>605828.46908</td>\n",
       "      <td>605053.28709</td>\n",
       "      <td>596174.87369</td>\n",
       "      <td>601033.77667</td>\n",
       "      <td>603902.88471</td>\n",
       "      <td>608829.39401</td>\n",
       "      <td>598272.26714</td>\n",
       "    </tr>\n",
       "    <tr>\n",
       "      <th>4</th>\n",
       "      <td>Bexley</td>\n",
       "      <td>E09000004</td>\n",
       "      <td>64958.09036</td>\n",
       "      <td>64787.92069</td>\n",
       "      <td>64367.49344</td>\n",
       "      <td>64277.66881</td>\n",
       "      <td>63997.13588</td>\n",
       "      <td>64252.32335</td>\n",
       "      <td>63722.70055</td>\n",
       "      <td>64432.60005</td>\n",
       "      <td>...</td>\n",
       "      <td>388882.93861</td>\n",
       "      <td>394022.89593</td>\n",
       "      <td>400356.86436</td>\n",
       "      <td>402704.6993</td>\n",
       "      <td>407097.04931</td>\n",
       "      <td>405578.41451</td>\n",
       "      <td>406911.68217</td>\n",
       "      <td>399736.46196</td>\n",
       "      <td>400814.17362</td>\n",
       "      <td>403022.84703</td>\n",
       "    </tr>\n",
       "    <tr>\n",
       "      <th>5</th>\n",
       "      <td>Brent</td>\n",
       "      <td>E09000005</td>\n",
       "      <td>71306.56698</td>\n",
       "      <td>72022.26197</td>\n",
       "      <td>72015.76274</td>\n",
       "      <td>72965.63094</td>\n",
       "      <td>73704.04743</td>\n",
       "      <td>74310.48167</td>\n",
       "      <td>74127.03788</td>\n",
       "      <td>73547.0411</td>\n",
       "      <td>...</td>\n",
       "      <td>534878.8481</td>\n",
       "      <td>550730.29995</td>\n",
       "      <td>559692.69097</td>\n",
       "      <td>578082.6615</td>\n",
       "      <td>570146.90413</td>\n",
       "      <td>566137.79926</td>\n",
       "      <td>559407.13925</td>\n",
       "      <td>556501.11179</td>\n",
       "      <td>543974.33399</td>\n",
       "      <td>530399.91639</td>\n",
       "    </tr>\n",
       "  </tbody>\n",
       "</table>\n",
       "<p>5 rows × 341 columns</p>\n",
       "</div>"
      ],
      "text/plain": [
       "0      London_Borough         id 1995-01-01 00:00:00 1995-02-01 00:00:00  \\\n",
       "1      City of London  E09000001         91448.98487         82202.77314   \n",
       "2  Barking & Dagenham  E09000002          50460.2266         51085.77983   \n",
       "3              Barnet  E09000003         93284.51832         93190.16963   \n",
       "4              Bexley  E09000004         64958.09036         64787.92069   \n",
       "5               Brent  E09000005         71306.56698         72022.26197   \n",
       "\n",
       "0 1995-03-01 00:00:00 1995-04-01 00:00:00 1995-05-01 00:00:00  \\\n",
       "1         79120.70256         77101.20804         84409.14932   \n",
       "2         51268.96956         53133.50526         53042.24852   \n",
       "3         92247.52435         90762.87492         90258.00033   \n",
       "4         64367.49344         64277.66881         63997.13588   \n",
       "5         72015.76274         72965.63094         73704.04743   \n",
       "\n",
       "0 1995-06-01 00:00:00 1995-07-01 00:00:00 1995-08-01 00:00:00  ...  \\\n",
       "1         94900.51244         110128.0423         112329.4376  ...   \n",
       "2         53700.34831         52113.12157         52232.19868  ...   \n",
       "3         90107.23471         91441.24768         92361.31512  ...   \n",
       "4         64252.32335         63722.70055         64432.60005  ...   \n",
       "5         74310.48167         74127.03788          73547.0411  ...   \n",
       "\n",
       "0 2022-06-01 00:00:00 2022-07-01 00:00:00 2022-08-01 00:00:00  \\\n",
       "1        817584.33516        823678.42301         851508.9627   \n",
       "2        344211.58225        349019.74947        350684.93126   \n",
       "3        587652.57456        589491.91507        600983.25425   \n",
       "4        388882.93861        394022.89593        400356.86436   \n",
       "5         534878.8481        550730.29995        559692.69097   \n",
       "\n",
       "0 2022-09-01 00:00:00 2022-10-01 00:00:00 2022-11-01 00:00:00  \\\n",
       "1        848510.48104        876104.51684        948498.14532   \n",
       "2        350132.29415        351786.71213        355142.44959   \n",
       "3        605828.46908        605053.28709        596174.87369   \n",
       "4         402704.6993        407097.04931        405578.41451   \n",
       "5         578082.6615        570146.90413        566137.79926   \n",
       "\n",
       "0 2022-12-01 00:00:00 2023-01-01 00:00:00 2023-02-01 00:00:00  \\\n",
       "1        926673.83411        940537.50192        843218.92839   \n",
       "2        355179.19508        351542.56074        344353.00525   \n",
       "3        601033.77667        603902.88471        608829.39401   \n",
       "4        406911.68217        399736.46196        400814.17362   \n",
       "5        559407.13925        556501.11179        543974.33399   \n",
       "\n",
       "0 2023-03-01 00:00:00  \n",
       "1          896600.654  \n",
       "2        346945.70957  \n",
       "3        598272.26714  \n",
       "4        403022.84703  \n",
       "5        530399.91639  \n",
       "\n",
       "[5 rows x 341 columns]"
      ]
     },
     "execution_count": 16,
     "metadata": {},
     "output_type": "execute_result"
    }
   ],
   "source": [
    "properties_t.rename(columns={properties_t.columns[0]: 'London_Borough', properties_t.columns[1]: 'id'},inplace=True)\n",
    "properties_t.head()"
   ]
  },
  {
   "cell_type": "markdown",
   "metadata": {
    "colab_type": "text",
    "id": "jy8BzXHmoWEw"
   },
   "source": [
    "**2.4.Transforming the data**\n",
    "\n",
    "Remember what Wes McKinney said about tidy data? \n",
    "\n",
    "You might need to **melt** your DataFrame here. "
   ]
  },
  {
   "cell_type": "code",
   "execution_count": 17,
   "metadata": {
    "colab": {},
    "colab_type": "code",
    "id": "S2wM0qLuo2Zt"
   },
   "outputs": [
    {
     "name": "stdout",
     "output_type": "stream",
     "text": [
      "       London_Borough         id       Date    avg_price\n",
      "0      City of London  E09000001 1995-01-01  91448.98487\n",
      "1  Barking & Dagenham  E09000002 1995-01-01   50460.2266\n",
      "2              Barnet  E09000003 1995-01-01  93284.51832\n",
      "3              Bexley  E09000004 1995-01-01  64958.09036\n",
      "4               Brent  E09000005 1995-01-01  71306.56698\n"
     ]
    }
   ],
   "source": [
    "properties_melt = properties_t.melt(id_vars=['London_Borough', 'id'])\n",
    "prop_renamemelt = properties_melt.rename(columns={0: 'Date', 'value' : 'avg_price'})\n",
    "print(prop_renamemelt.head())"
   ]
  },
  {
   "cell_type": "markdown",
   "metadata": {
    "colab_type": "text",
    "id": "7kIsgAo7o3mf"
   },
   "source": [
    "Remember to make sure your column data types are all correct. Average prices, for example, should be floating point numbers... "
   ]
  },
  {
   "cell_type": "code",
   "execution_count": 18,
   "metadata": {
    "colab": {},
    "colab_type": "code",
    "id": "ZcR4IHbcpOaq"
   },
   "outputs": [
    {
     "name": "stdout",
     "output_type": "stream",
     "text": [
      "London_Borough            object\n",
      "id                        object\n",
      "Date              datetime64[ns]\n",
      "avg_price                float64\n",
      "dtype: object\n"
     ]
    }
   ],
   "source": [
    "prop_renamemelt['avg_price'] = pd.to_numeric(prop_renamemelt['avg_price'])\n",
    "print(prop_renamemelt.dtypes)"
   ]
  },
  {
   "cell_type": "markdown",
   "metadata": {
    "colab_type": "text",
    "id": "knLUXHLypOtw"
   },
   "source": [
    "**2.5. Cleaning the data (part 3)**\n",
    "\n",
    "Do we have an equal number of observations in the ID, Average Price, Month, and London Borough columns? Remember that there are only 32 London Boroughs. How many entries do you have in that column? \n",
    "\n",
    "Check out the contents of the London Borough column, and if you find null values, get rid of them however you see fit. "
   ]
  },
  {
   "cell_type": "code",
   "execution_count": 19,
   "metadata": {
    "colab": {},
    "colab_type": "code",
    "id": "BnvTW5a3p0fC"
   },
   "outputs": [
    {
     "data": {
      "text/plain": [
       "London_Borough    15255\n",
       "id                15255\n",
       "Date              15255\n",
       "avg_price         15255\n",
       "dtype: int64"
      ]
     },
     "execution_count": 19,
     "metadata": {},
     "output_type": "execute_result"
    }
   ],
   "source": [
    "prop_renamemelt.isna().sum()\n",
    "prop_new = prop_renamemelt.dropna()\n",
    "prop_new.count()"
   ]
  },
  {
   "cell_type": "markdown",
   "metadata": {
    "colab_type": "text",
    "id": "PGEx6mJsp6dG"
   },
   "source": [
    "**2.6. Visualizing the data**\n",
    "\n",
    "To visualize the data, why not subset on a particular London Borough? Maybe do a line plot of Month against Average Price?"
   ]
  },
  {
   "cell_type": "code",
   "execution_count": 20,
   "metadata": {
    "colab": {},
    "colab_type": "code",
    "id": "nAg5pT9cqHAR"
   },
   "outputs": [
    {
     "data": {
      "image/png": "[encoded data removed]",
      "text/plain": [
       "<Figure size 640x480 with 1 Axes>"
      ]
     },
     "metadata": {},
     "output_type": "display_data"
    }
   ],
   "source": [
    "bexley_data = prop_new[prop_new['London_Borough'] == 'Bexley']\n",
    "bexley_data.plot(x = 'Date', y = 'avg_price', kind='line')\n",
    "plt.xlabel('Date')\n",
    "plt.ylabel('Average Price')\n",
    "plt.title('Date vs Average Price of Bexley')\n",
    "plt.show()"
   ]
  },
  {
   "cell_type": "markdown",
   "metadata": {
    "colab_type": "text",
    "id": "aWTPqSJeqHnC"
   },
   "source": [
    "To limit the number of data points you have, you might want to extract the year from every month value your *Month* column. \n",
    "\n",
    "To this end, you *could* apply a ***lambda function***. Your logic could work as follows:\n",
    "1. look through the `Month` column\n",
    "2. extract the year from each individual value in that column \n",
    "3. store that corresponding year as separate column. \n",
    "\n",
    "Whether you go ahead with this is up to you. Just so long as you answer our initial brief: which boroughs of London have seen the greatest house price increase, on average, over the past two decades? "
   ]
  },
  {
   "cell_type": "code",
   "execution_count": 21,
   "metadata": {
    "colab": {},
    "colab_type": "code",
    "id": "e0DF92cyqnu8"
   },
   "outputs": [
    {
     "name": "stdout",
     "output_type": "stream",
     "text": [
      "          London_Borough  Year      avg_price\n",
      "1300  YORKS & THE HUMBER  2019  163445.116042\n",
      "1301  YORKS & THE HUMBER  2020  169665.050725\n",
      "1302  YORKS & THE HUMBER  2021  186590.430608\n",
      "1303  YORKS & THE HUMBER  2022  204507.526447\n",
      "1304  YORKS & THE HUMBER  2023  206084.633180\n"
     ]
    },
    {
     "name": "stderr",
     "output_type": "stream",
     "text": [
      "C:\\Users\\chill\\AppData\\Local\\Temp\\ipykernel_20924\\506639284.py:1: SettingWithCopyWarning: \n",
      "A value is trying to be set on a copy of a slice from a DataFrame.\n",
      "Try using .loc[row_indexer,col_indexer] = value instead\n",
      "\n",
      "See the caveats in the documentation: https://pandas.pydata.org/pandas-docs/stable/user_guide/indexing.html#returning-a-view-versus-a-copy\n",
      "  prop_new['Year'] = prop_new['Date'].dt.year\n",
      "C:\\Users\\chill\\AppData\\Local\\Temp\\ipykernel_20924\\506639284.py:2: FutureWarning: The default value of numeric_only in DataFrameGroupBy.mean is deprecated. In a future version, numeric_only will default to False. Either specify numeric_only or select only columns which should be valid for the function.\n",
      "  prop_final = prop_new.groupby(by=['London_Borough', 'Year']).mean()\n"
     ]
    }
   ],
   "source": [
    "prop_new['Year'] = prop_new['Date'].dt.year\n",
    "prop_final = prop_new.groupby(by=['London_Borough', 'Year']).mean()\n",
    "prop_final = prop_final.reset_index()\n",
    "print(prop_final.tail())"
   ]
  },
  {
   "cell_type": "markdown",
   "metadata": {
    "colab_type": "text",
    "id": "2knuTxAEqoJ4"
   },
   "source": [
    "**3. Modeling**\n",
    "\n",
    "Consider creating a function that will calculate a ratio of house prices, comparing the price of a house in 2018 to the price in 1998.\n",
    "\n",
    "Consider calling this function create_price_ratio.\n",
    "\n",
    "You'd want this function to:\n",
    "1. Take a filter of dfg, specifically where this filter constrains the London_Borough, as an argument. For example, one admissible argument should be: dfg[dfg['London_Borough']=='Camden'].\n",
    "2. Get the Average Price for that Borough, for the years 1998 and 2018.\n",
    "4. Calculate the ratio of the Average Price for 1998 divided by the Average Price for 2018.\n",
    "5. Return that ratio.\n",
    "\n",
    "Once you've written this function, you ultimately want to use it to iterate through all the unique London_Boroughs and work out the ratio capturing the difference of house prices between 1998 and 2018.\n",
    "\n",
    "Bear in mind: you don't have to write a function like this if you don't want to. If you can solve the brief otherwise, then great! \n",
    "\n",
    "***Hint***: This section should test the skills you acquired in:\n",
    "- Python Data Science Toolbox - Part One, all modules"
   ]
  },
  {
   "cell_type": "code",
   "execution_count": 22,
   "metadata": {
    "colab": {},
    "colab_type": "code",
    "id": "cKTyr437UgDa"
   },
   "outputs": [
    {
     "name": "stdout",
     "output_type": "stream",
     "text": [
      "{'Barking & Dagenham': 4.89661861291754, 'Barnet': 4.358195917538044, 'Bexley': 4.248977046127877, 'Brent': 4.8945544971392865, 'Bromley': 4.094784685333876, 'Camden': 4.935353408884261, 'City of London': 5.30162037758761, 'Croydon': 4.201100280024766, 'EAST MIDLANDS': 3.632734672087703, 'EAST OF ENGLAND': 4.166900547724157, 'Ealing': 4.311450902121834, 'Enfield': 4.263471583495811, 'England': 3.810452978397399, 'Greenwich': 4.7630363473291935, 'Hackney': 6.198285561008663, 'Hammersmith & Fulham': 4.13779810193623, 'Haringey': 5.134624964136042, 'Harrow': 4.0591964329643195, 'Havering': 4.325230371335307, 'Hillingdon': 4.2002730803844575, 'Hounslow': 3.976409106143329, 'Inner London': 5.170857506254785, 'Islington': 4.844048012802297, 'Kensington & Chelsea': 5.082465066092464, 'Kingston upon Thames': 4.270549521484271, 'LONDON': 4.679776249632861, 'Lambeth': 4.957751163514062, 'Lewisham': 5.449221041059686, 'Merton': 4.741273313294603, 'NORTH EAST': 2.828080506434264, 'NORTH WEST': 3.363415637654066, 'Newham': 5.305390437201879, 'Outer London': 4.4189498094403135, 'Redbridge': 4.471182006097364, 'Richmond upon Thames': 4.005161895721457, 'SOUTH EAST': 3.8283877112840563, 'SOUTH WEST': 3.795497124092445, 'Southwark': 5.516485302379378, 'Sutton': 4.118522608573157, 'Tower Hamlets': 4.62670104006116, 'WEST MIDLANDS': 3.31126219314001, 'Waltham Forest': 5.83475580932281, 'Wandsworth': 4.75770934773927, 'Westminster': 5.353565392605412, 'YORKS & THE HUMBER': 3.3560650860283814}\n",
      "                 Borough      2018\n",
      "14               Hackney  6.198286\n",
      "41        Waltham Forest  5.834756\n",
      "37             Southwark  5.516485\n",
      "27              Lewisham  5.449221\n",
      "43           Westminster  5.353565\n",
      "31                Newham  5.305390\n",
      "6         City of London  5.301620\n",
      "21          Inner London  5.170858\n",
      "16              Haringey  5.134625\n",
      "23  Kensington & Chelsea  5.082465\n",
      "26               Lambeth  4.957751\n",
      "5                 Camden  4.935353\n",
      "0     Barking & Dagenham  4.896619\n",
      "3                  Brent  4.894554\n",
      "22             Islington  4.844048\n",
      "                 Borough variable     value\n",
      "0                Hackney     2018  6.198286\n",
      "1         Waltham Forest     2018  5.834756\n",
      "2              Southwark     2018  5.516485\n",
      "3               Lewisham     2018  5.449221\n",
      "4            Westminster     2018  5.353565\n",
      "5                 Newham     2018  5.305390\n",
      "6         City of London     2018  5.301620\n",
      "7           Inner London     2018  5.170858\n",
      "8               Haringey     2018  5.134625\n",
      "9   Kensington & Chelsea     2018  5.082465\n",
      "10               Lambeth     2018  4.957751\n",
      "11                Camden     2018  4.935353\n",
      "12    Barking & Dagenham     2018  4.896619\n",
      "13                 Brent     2018  4.894554\n",
      "14             Islington     2018  4.844048\n"
     ]
    },
    {
     "data": {
      "image/png": "[encoded data removed]",
      "text/plain": [
       "<Figure size 640x480 with 1 Axes>"
      ]
     },
     "metadata": {},
     "output_type": "display_data"
    }
   ],
   "source": [
    "def create_price_ratio(x):\n",
    "    year1 = float(x['avg_price'][x['Year']==1998])\n",
    "    year2 = float(x['avg_price'][x['Year']==2018])\n",
    "    ratio = year2/year1\n",
    "    return ratio\n",
    "create_price_ratio(prop_final[prop_final['London_Borough'] == 'Camden'])\n",
    "\n",
    "#iterate through all the boroughs\n",
    "final = {}\n",
    "for y in prop_final['London_Borough'].unique():\n",
    "    bor = prop_final[prop_final['London_Borough']== y]\n",
    "    final[y] = create_price_ratio(bor)\n",
    "print(final)\n",
    "\n",
    "ratiodf = pd.DataFrame(final, index=[0])\n",
    "ratiodftrans = ratiodf.T\n",
    "ratiodf = ratiodftrans.reset_index()\n",
    "ratiodf.rename(columns={'index':'Borough', 0:'2018'}, inplace=True)\n",
    "ratiodf.head()\n",
    "\n",
    "top_boroughs = ratiodf.sort_values(by='2018', ascending = False).head(15)\n",
    "print(top_boroughs)\n",
    "axis = top_boroughs[['Borough', '2018']].plot(kind='bar')\n",
    "axis.set_xticklabels(top_boroughs.Borough)\n",
    "\n",
    "prop_final.max()\n",
    "top_boroughs_15 = pd.melt(top_boroughs, id_vars= ['Borough'])\n",
    "print(top_boroughs_15)"
   ]
  },
  {
   "cell_type": "markdown",
   "metadata": {
    "colab_type": "text",
    "id": "NzYUI7FxJpgv"
   },
   "source": [
    "### 4. Conclusion\n",
    "What can you conclude? Type out your conclusion below. \n",
    "\n",
    "Look back at your notebook. Think about how you might summarize what you have done, and prepare a quick presentation on it to your mentor at your next meeting. \n",
    "\n",
    "We hope you enjoyed this practical project. It should have consolidated your data hygiene and pandas skills by looking at a real-world problem involving just the kind of dataset you might encounter as a budding data scientist. Congratulations, and looking forward to seeing you at the next step in the course! "
   ]
  },
  {
   "cell_type": "raw",
   "metadata": {},
   "source": [
    "Through the analysis and visualization of this project one can see that the borough of Hackney has the greatest increase in housing prices in the last two decades. Hackney's housing price growth rate was the only one to reach about 6 times its original."
   ]
  }
 ],
 "metadata": {
  "colab": {
   "collapsed_sections": [],
   "name": "Springboard Data Science Career Track Unit 4 Challenge - Tier 3 Complete .ipynb",
   "provenance": []
  },
  "kernelspec": {
   "display_name": "Python 3 (ipykernel)",
   "language": "python",
   "name": "python3"
  },
  "language_info": {
   "codemirror_mode": {
    "name": "ipython",
    "version": 3
   },
   "file_extension": ".py",
   "mimetype": "text/x-python",
   "name": "python",
   "nbconvert_exporter": "python",
   "pygments_lexer": "ipython3",
   "version": "3.10.9"
  }
 },
 "nbformat": 4,
 "nbformat_minor": 1
}
